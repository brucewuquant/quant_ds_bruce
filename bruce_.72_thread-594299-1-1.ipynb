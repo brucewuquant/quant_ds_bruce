{
 "cells": [
  {
   "cell_type": "markdown",
   "metadata": {},
   "source": [
    "https://www.1point3acres.com/bbs/thread-594299-1-1.html\n",
    "\n",
    "2020(1-3月) 码农类General 硕士 全职@point72 - 内推 - Onsite 视频面试  | Fail/Rej | fresh grad应届毕业生\n",
    "面的rotational program，流程是hr面、一面和二面，没有onsite\n",
    "一面是国人大哥问的蠡筘523，用sliding window\n",
    "二面是三轮skype\n",
    "\n",
    "第一轮是亚裔小姐姐，迟到早退考两道brain teaser，一道是estimate NYC yellow cabs，二道是25匹马，每轮可以赛5匹，最少多少轮可以选出前三\n",
    "第二轮印度老姐，迟到早退打哈欠，问一道spiral matrix，我说可以用recursive和iterative，iterative更好因为空间复杂度低所以想implement这个，她问为什么，我说因为call stack她仿佛不懂什么是call stack？然后用嘴code才说到第一行就打断我说可以了。我还以为她还要问第二道题，结果啥都没有直提前10分钟结束\n",
    "第三轮V哥，迟到，态度特别差，问了queue vs linkedlist，map vs set，reader from socket快还是write file to database快，design pattern\n",
    "\n",
    "\n",
    "第二天收到拒信说想招technically stronger candidate，我都不知道这之前的面试啥时候考了technical question。Point72的tech感觉已经被烙印填满了，去了日子也不好过。真诚建议大家不要去浪费时间！\n",
    "post_newreply\n"
   ]
  },
  {
   "cell_type": "code",
   "execution_count": 43,
   "metadata": {},
   "outputs": [],
   "source": [
    "\"\"\"\n",
    "Given a list of non-negative numbers and a target integer k, write a function to check if the array has a continuous subarray of size at least 2 that sums up to a multiple of k, that is, sums up to n*k where n is also an integer.\n",
    "\n",
    " \n",
    "\n",
    "Example 1:\n",
    "\n",
    "Input: [23, 2, 4, 6, 7],  k=6\n",
    "Output: True\n",
    "Explanation: Because [2, 4] is a continuous subarray of size 2 and sums up to 6.\n",
    "\"\"\"\n",
    "#1 Leetcode 523\n",
    "import unittest\n",
    "from typing import List\n",
    "from abc import ABC, abstractmethod"
   ]
  },
  {
   "cell_type": "code",
   "execution_count": 44,
   "metadata": {},
   "outputs": [],
   "source": [
    "class SolutionBase(ABC):\n",
    "    @abstractmethod\n",
    "    def checkSubarraySum(self, nums: List[int], k: int) -> bool:\n",
    "        ..."
   ]
  },
  {
   "cell_type": "code",
   "execution_count": 45,
   "metadata": {},
   "outputs": [],
   "source": [
    "# Bruce stands for BRUte-forCE\n",
    "class SolutionBruce(SolutionBase):\n",
    "    def checkSubarraySum(self, nums: List[int], k: int) -> bool:\n",
    "        sums: List = [0] * len(nums)\n",
    "        sums[0] = nums[0]\n",
    "\n",
    "        for i in range(1, len(nums)):\n",
    "            sums[i] = sums[i - 1] + nums[i]\n",
    "\n",
    "        # [23, 25, 29, 35, 42]\n",
    "        for i in range(len(nums) - 1):\n",
    "            for j in range(i + 1, len(nums)):\n",
    "                window_sum: int = sums[j] - sums[i] + nums[i]\n",
    "                if (window_sum == k) or (k != 0 and window_sum % k == 0):\n",
    "                    return True\n",
    "        return False"
   ]
  },
  {
   "cell_type": "code",
   "execution_count": 46,
   "metadata": {},
   "outputs": [],
   "source": [
    "class SolutionHashMap(SolutionBase):\n",
    "    def checkSubarraySum(self, nums: List[int], k: int) -> bool:\n",
    "        dic = {0: -1}\n",
    "        tmp_sum = 0\n",
    "        for i in range(len(nums)):\n",
    "            tmp_sum += nums[i]\n",
    "            if k != 0:\n",
    "                tmp_sum = tmp_sum % k\n",
    "            if tmp_sum in dic:\n",
    "                if i - dic[tmp_sum] > 1:  # at least 2\n",
    "                    return True\n",
    "            else:\n",
    "                dic[tmp_sum] = i\n",
    "        return False"
   ]
  },
  {
   "cell_type": "code",
   "execution_count": 47,
   "metadata": {},
   "outputs": [
    {
     "name": "stderr",
     "output_type": "stream",
     "text": [
      ".......\n",
      "----------------------------------------------------------------------\n",
      "Ran 7 tests in 0.031s\n",
      "\n",
      "OK\n"
     ]
    }
   ],
   "source": [
    "class TestA(unittest.TestCase):\n",
    "    def test_bruce(self):\n",
    "        s = SolutionBruce()\n",
    "        self.assertEqual(True, s.checkSubarraySum([23, 2, 4, 6, 7], 6))\n",
    "\n",
    "    def test_hashmap(self):\n",
    "        s = SolutionHashMap()\n",
    "        self.assertEqual(True, s.checkSubarraySum([23, 2, 4, 6, 7], 6))\n",
    "\n",
    "\n",
    "if __name__ == '__main__':\n",
    "    unittest.main(argv=['first-arg-is-ignored'], exit=False)"
   ]
  },
  {
   "cell_type": "code",
   "execution_count": 48,
   "metadata": {},
   "outputs": [
    {
     "name": "stdout",
     "output_type": "stream",
     "text": [
      "Bruce doesn't really know...\n"
     ]
    }
   ],
   "source": [
    "# 2 estimate NYC yellow cabs brainteaser\n",
    "print(\"Bruce doesn't really know...\")"
   ]
  },
  {
   "cell_type": "markdown",
   "metadata": {},
   "source": [
    "#3 25匹马，每轮可以赛5匹，最少多少轮可以选出前三\n",
    "\n",
    "先走5次，A-E，淘汰每组最后两名\n",
    "\n",
    "每组第一名一次。不妨假设结果是A1>B1>C1>D1>E1, A1出道预定，D,E gg\n",
    "\n",
    "最后一次： A2, A3, B1, B2, C1 得到第二名，第三名。\n",
    "\n",
    "5+1+1 = 7\n",
    "恭喜出道"
   ]
  },
  {
   "cell_type": "code",
   "execution_count": 49,
   "metadata": {},
   "outputs": [],
   "source": [
    "# 4 spiral matrix\n",
    "# https://leetcode.com/problems/spiral-matrix/"
   ]
  },
  {
   "cell_type": "code",
   "execution_count": 50,
   "metadata": {},
   "outputs": [],
   "source": [
    "class SolutionBase(ABC):\n",
    "    @abstractmethod\n",
    "    def spiralOrder(self, matrix: List[List[int]]) -> List[int]:\n",
    "        ..."
   ]
  },
  {
   "cell_type": "code",
   "execution_count": 51,
   "metadata": {},
   "outputs": [],
   "source": [
    "# for trick solutions\n",
    "\n",
    "class SolutionTrickster(SolutionBase):\n",
    "    def spiralOrder(self, matrix: List[List[int]]) -> List[int]:\n",
    "        return matrix and [*matrix.pop(0)] + self.spiralOrder([*zip(*matrix)][::-1])"
   ]
  },
  {
   "cell_type": "code",
   "execution_count": 52,
   "metadata": {},
   "outputs": [],
   "source": [
    "class SolutionSimulation(SolutionBase):\n",
    "    def spiralOrder(self, matrix: List[List[int]]) -> List[int]:\n",
    "        \"\"\"\n",
    "        seen[r][c]: the point we seen before\n",
    "        (r,c): current position\n",
    "        (cr, cc): next position\n",
    "        \"\"\"\n",
    "\n",
    "        if not matrix: return []\n",
    "        R, C = len(matrix), len(matrix[0])\n",
    "        seen = [[False] * C for _ in matrix]\n",
    "        ans = []\n",
    "        dr = [0, 1, 0, -1]\n",
    "        dc = [1, 0, -1, 0]\n",
    "        r = c = di = 0\n",
    "        for _ in range(R * C):\n",
    "            ans.append(matrix[r][c])\n",
    "            seen[r][c] = True\n",
    "            cr, cc = r + dr[di], c + dc[di]\n",
    "            if 0 <= cr < R and 0 <= cc < C and not seen[cr][cc]:\n",
    "                r, c = cr, cc\n",
    "            else:\n",
    "                di = (di + 1) % 4\n",
    "                r, c = r + dr[di], c + dc[di]\n",
    "        return ans"
   ]
  },
  {
   "cell_type": "code",
   "execution_count": 53,
   "metadata": {},
   "outputs": [],
   "source": [
    "class SolutionLayer(SolutionBase):\n",
    "    def spiralOrder(self, matrix: List[List[int]]) -> List[int]:\n",
    "        \n",
    "        \"\"\"\n",
    "        很有意思，本来是个Brute Force，但是这个yield有点东西\n",
    "        \"\"\"\n",
    "\n",
    "        if not matrix: return []\n",
    "        ans = []\n",
    "        r1, r2 = 0, len(matrix) - 1\n",
    "        c1, c2 = 0, len(matrix[0]) - 1\n",
    "        while r1 <= r2 and c1 <= c2:\n",
    "            for r, c in self._spiral_coords(r1, c1, r2, c2):\n",
    "                ans.append(matrix[r][c])\n",
    "            r1 += 1\n",
    "            r2 -= 1\n",
    "            c1 += 1\n",
    "            c2 -= 1\n",
    "        return ans\n",
    "\n",
    "    def _spiral_coords(self, r1, c1, r2, c2):\n",
    "        for c in range(c1, c2 + 1):\n",
    "            yield r1, c\n",
    "        for r in range(r1 + 1, r2 + 1):\n",
    "            yield r, c2\n",
    "        if r1 < r2 and c1 < c2:\n",
    "            for c in range(c2 - 1, c1, -1):\n",
    "                yield r2, c\n",
    "            for r in range(r2, r1, -1):\n",
    "                yield r, c1"
   ]
  },
  {
   "cell_type": "code",
   "execution_count": 54,
   "metadata": {},
   "outputs": [
    {
     "name": "stderr",
     "output_type": "stream",
     "text": [
      ".......\n",
      "----------------------------------------------------------------------\n",
      "Ran 7 tests in 0.010s\n",
      "\n",
      "OK\n"
     ]
    }
   ],
   "source": [
    "class TestB(unittest.TestCase):\n",
    "    def test_trick(self):\n",
    "        s = SolutionTrickster()\n",
    "        self.assertEqual([1, 2, 3, 6, 9, 8, 7, 4, 5],\n",
    "                         s.spiralOrder([[1, 2, 3], [4, 5, 6], [7, 8, 9]]))\n",
    "        \n",
    "    def test_simu(self):\n",
    "        s = SolutionSimulation()\n",
    "        self.assertEqual([1, 2, 3, 6, 9, 8, 7, 4, 5],\n",
    "                         s.spiralOrder([[1, 2, 3], [4, 5, 6], [7, 8, 9]]))\n",
    "        \n",
    "            \n",
    "    def test_layer(self):\n",
    "        s = SolutionLayer()\n",
    "        self.assertEqual([1, 2, 3, 6, 9, 8, 7, 4, 5],\n",
    "                         s.spiralOrder([[1, 2, 3], [4, 5, 6], [7, 8, 9]]))\n",
    "\n",
    "\n",
    "if __name__ == '__main__':\n",
    "    unittest.main(argv=['first-arg-is-ignored'], exit=False)"
   ]
  },
  {
   "cell_type": "markdown",
   "metadata": {},
   "source": [
    "#5 queue vs linkedlist，map vs set，reader from socket快还是write file to database快，design pattern\n",
    "\n",
    "这我哪会啊？？？？我是个傻子啊"
   ]
  },
  {
   "cell_type": "code",
   "execution_count": null,
   "metadata": {},
   "outputs": [],
   "source": []
  }
 ],
 "metadata": {
  "kernelspec": {
   "display_name": "Python 3",
   "language": "python",
   "name": "python3"
  },
  "language_info": {
   "codemirror_mode": {
    "name": "ipython",
    "version": 3
   },
   "file_extension": ".py",
   "mimetype": "text/x-python",
   "name": "python",
   "nbconvert_exporter": "python",
   "pygments_lexer": "ipython3",
   "version": "3.7.6"
  },
  "toc": {
   "base_numbering": 1,
   "nav_menu": {},
   "number_sections": true,
   "sideBar": true,
   "skip_h1_title": false,
   "title_cell": "Table of Contents",
   "title_sidebar": "Contents",
   "toc_cell": false,
   "toc_position": {},
   "toc_section_display": true,
   "toc_window_display": false
  }
 },
 "nbformat": 4,
 "nbformat_minor": 2
}
