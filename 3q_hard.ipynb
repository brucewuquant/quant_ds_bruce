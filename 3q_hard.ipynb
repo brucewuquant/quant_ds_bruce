{
 "cells": [
  {
   "cell_type": "code",
   "execution_count": 91,
   "metadata": {},
   "outputs": [],
   "source": [
    "import unittest\n",
    "\n",
    "\n",
    "class Node:\n",
    "    def __init__(self, children, isWord):\n",
    "        self.children = children\n",
    "        self.isWord = isWord\n",
    "\n",
    "\n",
    "class Solution:\n",
    "    def __init__(self):\n",
    "        self.trie = None\n",
    "\n",
    "    def build(self, words):\n",
    "        self.trie = Node({}, False)\n",
    "        for word in words:\n",
    "            current = self.trie\n",
    "            for char in word:\n",
    "                if not char in current.children:\n",
    "                    current.children[char] = Node({}, False)\n",
    "                current = current.children[char]\n",
    "            current.isWord = True\n",
    "\n",
    "    def autocomplete(self, prefix):\n",
    "        current = self.trie\n",
    "        for char in prefix:\n",
    "            if not char in current.children:\n",
    "                return []\n",
    "\n",
    "            current = current.children[char]\n",
    "\n",
    "        return self._findWordsFromNode(current, prefix)\n",
    "\n",
    "    def _findWordsFromNode(self, node, prefix):\n",
    "        words = []\n",
    "        if node.isWord:\n",
    "            words += [prefix]\n",
    "        for char in node.children:\n",
    "            words += self._findWordsFromNode(node.children[char],\n",
    "                                             prefix + char)\n",
    "        return words"
   ]
  },
  {
   "cell_type": "code",
   "execution_count": 92,
   "metadata": {},
   "outputs": [],
   "source": [
    "s = Solution()\n",
    "s.build(['dog', 'dark','cat','door','dodge'])"
   ]
  },
  {
   "cell_type": "code",
   "execution_count": 93,
   "metadata": {},
   "outputs": [],
   "source": [
    "class HeapSol:\n",
    "    def findKthLargest(self, arr, k):\n",
    "        left = 0\n",
    "        right = len(arr)-1\n",
    "        \n",
    "        while left <= right:\n",
    "            pivotIndex = self._partition(arr, left, right)\n",
    "            if pivotIndex == len(arr) - k:\n",
    "                return arr[pivotIndex]\n",
    "            elif pivotIndex > len(arr)-k:\n",
    "                right = pivotIndex -1 \n",
    "            else:\n",
    "                left = pivotIndex +1\n",
    "        return -1\n",
    "    \n",
    "    def _partition(self, arr, low, high):\n",
    "        pivot = arr[high]\n",
    "        index = low\n",
    "        for j in range(low, high):\n",
    "            if arr[j] <= pivot:\n",
    "                arr[index], arr[j] = arr[j] , arr[index]\n",
    "                index += 1\n",
    "        arr[index], arr[high] = arr[high], arr[index]\n",
    "        return index    "
   ]
  },
  {
   "cell_type": "code",
   "execution_count": 94,
   "metadata": {},
   "outputs": [],
   "source": [
    "class ConcatSolution:\n",
    "    def findAllConcatenatedWords(self, words):\n",
    "        wordDict = set(words)\n",
    "        cache = {}\n",
    "        return [word for word in words if self._canForm(word, wordDict, cache)]\n",
    "\n",
    "    def _canForm(self, word, wordDict, cache):\n",
    "        if word in cache:\n",
    "            return cache[word]\n",
    "        for index in range(1, len(word)):\n",
    "            prefix = word[:index]\n",
    "            suffix = word[index:]\n",
    "            if prefix in wordDict:\n",
    "                if suffix in wordDict or self._canForm(suffix, wordDict, cache):\n",
    "                    cache[word] = True\n",
    "                    return True\n",
    "        cache[word] = False\n",
    "        return False\n"
   ]
  },
  {
   "cell_type": "code",
   "execution_count": 97,
   "metadata": {},
   "outputs": [
    {
     "name": "stderr",
     "output_type": "stream",
     "text": [
      "...\n",
      "----------------------------------------------------------------------\n",
      "Ran 3 tests in 0.004s\n",
      "\n",
      "OK\n"
     ]
    }
   ],
   "source": [
    "class Test(unittest.TestCase):\n",
    "    def test_1(self):\n",
    "        self.assertEqual(['dog', 'door', 'dodge'], s.autocomplete('do'))\n",
    "\n",
    "    def test_2(self):\n",
    "        self.assertEqual(HeapSol().findKthLargest([5, 7, 2, 3, 4, 1, 6], 3), 5)\n",
    "        \n",
    "    def test_3(self):\n",
    "        self.assertEqual(['catsdog'], ConcatSolution().findAllConcatenatedWords(['cat','cats','dog','catsdog']))\n",
    "\n",
    "\n",
    "if __name__ == '__main__':\n",
    "    unittest.main(argv=['first-arg-is-ignored'], exit=False)"
   ]
  },
  {
   "cell_type": "code",
   "execution_count": null,
   "metadata": {},
   "outputs": [],
   "source": []
  },
  {
   "cell_type": "code",
   "execution_count": null,
   "metadata": {},
   "outputs": [],
   "source": []
  },
  {
   "cell_type": "code",
   "execution_count": null,
   "metadata": {},
   "outputs": [],
   "source": []
  },
  {
   "cell_type": "code",
   "execution_count": null,
   "metadata": {},
   "outputs": [],
   "source": []
  }
 ],
 "metadata": {
  "kernelspec": {
   "display_name": "Python 3",
   "language": "python",
   "name": "python3"
  },
  "language_info": {
   "codemirror_mode": {
    "name": "ipython",
    "version": 3
   },
   "file_extension": ".py",
   "mimetype": "text/x-python",
   "name": "python",
   "nbconvert_exporter": "python",
   "pygments_lexer": "ipython3",
   "version": "3.7.6"
  },
  "toc": {
   "base_numbering": 1,
   "nav_menu": {},
   "number_sections": true,
   "sideBar": true,
   "skip_h1_title": false,
   "title_cell": "Table of Contents",
   "title_sidebar": "Contents",
   "toc_cell": false,
   "toc_position": {},
   "toc_section_display": true,
   "toc_window_display": false
  }
 },
 "nbformat": 4,
 "nbformat_minor": 2
}
